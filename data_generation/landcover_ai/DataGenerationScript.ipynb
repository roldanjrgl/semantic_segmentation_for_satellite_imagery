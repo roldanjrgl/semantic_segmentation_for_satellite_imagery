{
 "cells": [
  {
   "cell_type": "code",
   "execution_count": 247,
   "metadata": {},
   "outputs": [],
   "source": [
    "# Creates respective folder and generates the dataset for landcover.ai\n",
    "# Augmentation used :\n",
    "# Augments images with all the claases 10 times and others 3 times. "
   ]
  },
  {
   "cell_type": "code",
   "execution_count": 25,
   "metadata": {},
   "outputs": [],
   "source": [
    "#Params :\n",
    "netid = 'nn2163'\n",
    "version_no = '12'\n",
    "multiplication_factor_all_features = 1\n",
    "multiplication_factor_for_rest = 1"
   ]
  },
  {
   "cell_type": "code",
   "execution_count": 26,
   "metadata": {},
   "outputs": [],
   "source": [
    "# The base_path and original base path is where actual 41 images of landcover.ai are kept \n",
    "# Using this script, we are generating augmented data in out_path\n",
    "\n",
    "base_data_path = \"/scratch/au2056/semantic_datasets/landcover/2/\"\n",
    "original_base_path = base_data_path + \"original/\""
   ]
  },
  {
   "cell_type": "code",
   "execution_count": 250,
   "metadata": {},
   "outputs": [
    {
     "name": "stdout",
     "output_type": "stream",
     "text": [
      "Defaulting to user installation because normal site-packages is not writeable\n",
      "Collecting pip\n",
      "  Using cached pip-21.3.1-py3-none-any.whl (1.7 MB)\n",
      "Installing collected packages: pip\n",
      "Successfully installed pip-21.3.1\n",
      "\u001b[33mWARNING: You are using pip version 20.2.3; however, version 21.3.1 is available.\n",
      "You should consider upgrading via the '/share/apps/python/3.8.6/intel/bin/python -m pip install --upgrade pip' command.\u001b[0m\n"
     ]
    }
   ],
   "source": [
    "!pip install --upgrade pip"
   ]
  },
  {
   "cell_type": "code",
   "execution_count": 5,
   "metadata": {},
   "outputs": [],
   "source": [
    "import os, re, sys, random, shutil, cv2\n",
    "import numpy as np\n",
    "from PIL import ImageColor\n",
    "from IPython.display import SVG\n",
    "import matplotlib.pyplot as plt\n",
    "%matplotlib inline\n",
    "import albumentations as A\n",
    "import segmentation_models_pytorch as smp"
   ]
  },
  {
   "cell_type": "code",
   "execution_count": 3,
   "metadata": {},
   "outputs": [],
   "source": [
    "#TODO\n",
    "def augment(width, height):\n",
    "    transform = A.Compose([\n",
    "        A.RandomCrop(width=width, height=height, p=1.0),\n",
    "        A.HorizontalFlip(p=0.7),\n",
    "        A.VerticalFlip(p=0.7),\n",
    "        A.Rotate(limit=[60, 300], p=1.0, interpolation=cv2.INTER_NEAREST),\n",
    "        A.RandomBrightnessContrast(brightness_limit=[-0.2, 0.3], contrast_limit=0.2, p=1.0),\n",
    "        A.OneOf([\n",
    "            A.CLAHE (clip_limit=1.5, tile_grid_size=(8, 8), p=0.5),\n",
    "            A.GridDistortion(p=0.5),\n",
    "            A.OpticalDistortion(distort_limit=1, shift_limit=0.5, interpolation=cv2.INTER_NEAREST, p=0.5),\n",
    "        ], p=1.0),\n",
    "    ], p=1.0)\n",
    "    \n",
    "    return transform"
   ]
  },
  {
   "cell_type": "code",
   "execution_count": 6,
   "metadata": {},
   "outputs": [
    {
     "name": "stdout",
     "output_type": "stream",
     "text": [
      "{0: (0, 0, 0), 1: (80, 0, 165), 2: (255, 204, 0), 3: (0, 244, 244), 4: (105, 105, 105)}\n",
      "{'unlabeled': 0, 'building': 1, 'woodland': 2, 'water': 3, 'roads': 4}\n",
      "{0: 'unlabeled', 1: 'building', 2: 'woodland', 3: 'water', 4: 'roads'}\n"
     ]
    }
   ],
   "source": [
    "class_to_rgb_map = {}\n",
    "class_to_rgb_map['unlabeled'] = np.array([0,0,0])\n",
    "class_to_rgb_map['building'] = np.array([80,0,165])\n",
    "class_to_rgb_map['woodland'] = np.array([255,204,0])\n",
    "class_to_rgb_map['water'] = np.array([0,244,244])\n",
    "class_to_rgb_map['roads'] = np.array([105,105,105])\n",
    "\n",
    "\n",
    "class_names= ['unlabeled', 'building', 'woodland', 'water', 'roads']\n",
    "class_codes = []\n",
    "\n",
    "for cname in class_names:\n",
    "    rgb_arr = class_to_rgb_map[cname]\n",
    "    class_codes.append(tuple([rgb_arr[0], rgb_arr[1], rgb_arr[2]]))\n",
    "\n",
    "#print(\"class codes (in order) are = \\n\" , class_codes)\n",
    "\n",
    "\n",
    "imap = {k:v for k,v in enumerate(class_codes)}\n",
    "nimap = {v:k for k,v in enumerate(class_names)}\n",
    "inmap = {k:v for k,v in enumerate(class_names)}\n",
    "\n",
    "print(imap)\n",
    "print(nimap)\n",
    "print(inmap)\n",
    "# cmap = {v:k for k,v in enumerate(class_codes)}\n",
    "# \n",
    "# print(cmap, \"\\n-----------------------------------------------------------------\\n\")\n",
    "# print(nimap, \"\\n-----------------------------------------------------------------\\n\")\n",
    "# print(inmap)"
   ]
  },
  {
   "cell_type": "code",
   "execution_count": 7,
   "metadata": {},
   "outputs": [],
   "source": [
    "def mask_contains_all(msk, nimap):\n",
    "    one_hot = convert_to_onehot(msk, imap)\n",
    "    bid = nimap['building']\n",
    "    wid = nimap['water']\n",
    "    rid = nimap['roads']\n",
    "    lid = nimap['woodland']\n",
    "    uid = nimap['unlabeled']\n",
    "    if np.any(one_hot[:,:,bid]) and np.any(one_hot[:,:,wid]) and np.any(one_hot[:,:,rid]) and np.any(one_hot[:,:,lid]) and np.any(one_hot[:,:,uid]):\n",
    "        return True"
   ]
  },
  {
   "cell_type": "code",
   "execution_count": 16,
   "metadata": {},
   "outputs": [],
   "source": [
    "def convert_to_onehot(img, mapping = imap):\n",
    "    nclasses = len(mapping)\n",
    "    shape = img.shape[:2]+(nclasses,)\n",
    "    ret = np.zeros(shape, dtype=np.int8)\n",
    "    for idx, cls in enumerate(mapping):\n",
    "        ret[:,:,idx] = np.all(img.reshape( (-1,3) ) == mapping[idx], axis=1).reshape(shape[:2])\n",
    "    return ret\n",
    "\n",
    "def convert_to_rgb(onehot, mapping = imap):\n",
    "    val = np.argmax(onehot, axis=-1)\n",
    "    ret = np.zeros( onehot.shape[:2]+(3,) )\n",
    "    for m in mapping.keys():\n",
    "        ret[val == m] = mapping[m]\n",
    "    return np.uint8(ret)"
   ]
  },
  {
   "cell_type": "code",
   "execution_count": 27,
   "metadata": {},
   "outputs": [
    {
     "name": "stdout",
     "output_type": "stream",
     "text": [
      "10674\n"
     ]
    }
   ],
   "source": [
    "# to shuffle all the images for random splitting\n",
    "fnames = [ f.name for f in os.scandir(original_base_path + \"/images/\") if not f.is_dir() ]\n",
    "np.random.shuffle(fnames)\n",
    "#fnames = fnames[:10]\n",
    "print(len(fnames))"
   ]
  },
  {
   "cell_type": "code",
   "execution_count": 28,
   "metadata": {},
   "outputs": [],
   "source": [
    "transform_fn = {}\n",
    "transform_fn[1] = augment(512, 512)"
   ]
  },
  {
   "cell_type": "code",
   "execution_count": 29,
   "metadata": {},
   "outputs": [],
   "source": [
    "def create_directory(path):\n",
    "    isExist = os.path.exists(path)\n",
    "    if not isExist:  \n",
    "      os.makedirs(path)\n",
    "      print(\"The new directory is created!\")\n",
    "    else:\n",
    "      print(\"The directory already exists!\")"
   ]
  },
  {
   "cell_type": "code",
   "execution_count": 30,
   "metadata": {},
   "outputs": [
    {
     "name": "stdout",
     "output_type": "stream",
     "text": [
      "The new directory is created!\n",
      "The new directory is created!\n",
      "The new directory is created!\n"
     ]
    }
   ],
   "source": [
    "#folder creation :\n",
    "\n",
    "root_path = '/scratch/'\n",
    "directory = '/cv/semantic_datasets2/landcover/'\n",
    "subdirectory_image = '/images/'\n",
    "subdirectory_masks = '/masks/'\n",
    "path = root_path + netid + directory + version_no\n",
    "path_to_images = path + subdirectory_image\n",
    "path_to_masks = path + subdirectory_masks\n",
    "\n",
    "create_directory(path)\n",
    "create_directory(path_to_images)\n",
    "create_directory(path_to_masks)"
   ]
  },
  {
   "cell_type": "code",
   "execution_count": 31,
   "metadata": {},
   "outputs": [],
   "source": [
    "out_path = path + \"/{}/{}\""
   ]
  },
  {
   "cell_type": "code",
   "execution_count": 32,
   "metadata": {},
   "outputs": [
    {
     "name": "stdout",
     "output_type": "stream",
     "text": [
      "/scratch/nn2163/cv/semantic_datasets2/landcover/12/{}/{}\n"
     ]
    }
   ],
   "source": [
    "print(out_path)"
   ]
  },
  {
   "cell_type": "code",
   "execution_count": 33,
   "metadata": {},
   "outputs": [],
   "source": [
    "files = []\n",
    "def create_dataset(count_all, count_rest, nimap, fnames):\n",
    "    img_folder_path = original_base_path + \"/images/\"\n",
    "    msk_folder_path = original_base_path + \"/masks/\"\n",
    "    for img_name in fnames:\n",
    "        img_path = img_folder_path + img_name\n",
    "        msk_path = msk_folder_path + img_name.replace(\".jpg\", \"_m.png\")\n",
    "        img = cv2.imread(img_path)\n",
    "        img = cv2.cvtColor(img, cv2.COLOR_BGR2RGB)\n",
    "        msk = cv2.imread(msk_path)\n",
    "        msk = cv2.cvtColor(msk, cv2.COLOR_BGR2RGB)\n",
    "        \n",
    "        #targeted augmentation\n",
    "        times = 1\n",
    "        if mask_contains_all(msk, nimap):\n",
    "            times = count_all\n",
    "        else:\n",
    "            times = count_rest\n",
    "            \n",
    "        for idx in range(times):\n",
    "            transformed = transform_fn[1](image=img, mask=msk)\n",
    "            transformed_image = transformed['image']\n",
    "            transformed_mask = transformed['mask']\n",
    "            img_out_path = out_path.format(\"images\", str(idx + 1) + \"_\" + img_name)\n",
    "            cur_name = str(idx + 1) + \"_\" + img_name.replace(\".jpg\", \"\")\n",
    "            files.append(cur_name)\n",
    "            #print(cur_name)\n",
    "            msk_out_path = out_path.format(\"masks\",  str(idx + 1) + \"_\" + img_name.replace(\".jpg\", \".png\"))\n",
    "            cv2.imwrite(img_out_path, cv2.cvtColor(transformed_image, cv2.COLOR_BGR2RGB))\n",
    "            cv2.imwrite(msk_out_path, cv2.cvtColor(transformed_mask, cv2.COLOR_BGR2RGB))\n",
    "            \n",
    "            "
   ]
  },
  {
   "cell_type": "code",
   "execution_count": null,
   "metadata": {},
   "outputs": [],
   "source": [
    "#create_dataset(multiplication_factor_all_features, multiplication_factor_for_rest, nimaps, fnames)\n",
    "create_dataset(multiplication_factor_all_features, multiplication_factor_for_rest, nimap, fnames)\n",
    "print(len(files))"
   ]
  },
  {
   "cell_type": "code",
   "execution_count": 36,
   "metadata": {},
   "outputs": [
    {
     "name": "stdout",
     "output_type": "stream",
     "text": [
      "8539\n",
      "1067\n",
      "1068\n"
     ]
    }
   ],
   "source": [
    "train = files[:int(len(files)*0.8)] #[1, 2, 3, 4, 5, 6, 7, 8]\n",
    "validate = files[int(len(files)*0.8):int(len(files)*0.9)] #[9]\n",
    "test = files[int(len(files)*0.9):] #[10]\n",
    "print(len(train))\n",
    "print(len(validate))\n",
    "print(len(test))"
   ]
  },
  {
   "cell_type": "code",
   "execution_count": 37,
   "metadata": {},
   "outputs": [
    {
     "name": "stdout",
     "output_type": "stream",
     "text": [
      "/scratch/nn2163/cv/semantic_datasets2/landcover/12\n",
      "/scratch/nn2163/cv/semantic_datasets2/landcover/12/\n"
     ]
    }
   ],
   "source": [
    "print(path)\n",
    "base_path = path + \"/\"\n",
    "print(base_path)"
   ]
  },
  {
   "cell_type": "code",
   "execution_count": 38,
   "metadata": {},
   "outputs": [],
   "source": [
    "def create_sub_dir(data_category):\n",
    "    # define the name of the directory to be created\n",
    "    path_test_imgs = base_path + data_category + \"/images/\"\n",
    "    path_test_msks = base_path + data_category + \"/masks/\"\n",
    "    create_directory(path_test_imgs)\n",
    "    create_directory(path_test_msks)\n",
    "        "
   ]
  },
  {
   "cell_type": "code",
   "execution_count": 39,
   "metadata": {},
   "outputs": [
    {
     "name": "stdout",
     "output_type": "stream",
     "text": [
      "The new directory is created!\n",
      "The new directory is created!\n",
      "The new directory is created!\n",
      "The new directory is created!\n",
      "The new directory is created!\n",
      "The new directory is created!\n"
     ]
    }
   ],
   "source": [
    "create_sub_dir(\"train\")\n",
    "create_sub_dir(\"validate\")\n",
    "create_sub_dir(\"test\")"
   ]
  },
  {
   "cell_type": "code",
   "execution_count": 40,
   "metadata": {},
   "outputs": [],
   "source": [
    "import shutil, os\n",
    "\n",
    "def move_dataset(data_cat, data_cat_name):\n",
    "    img_folder_path = base_path + \"images/\"\n",
    "    msk_folder_path = base_path + \"masks/\"\n",
    "    img_out_folder_path = base_path + data_cat_name + \"/images/\"\n",
    "    msk_out_folder_path = base_path + data_cat_name + \"/masks/\"\n",
    "    \n",
    "    try :\n",
    "        for img_name in data_cat:\n",
    "            img_path = img_folder_path + img_name + \".jpg\"\n",
    "            out_img = img_out_folder_path + img_name + \".jpg\"\n",
    "            msk_path = msk_folder_path + img_name + \".png\"\n",
    "            out_msk = msk_out_folder_path + img_name + \".png\"\n",
    "            shutil.move(img_path, out_img) \n",
    "            shutil.move(msk_path, out_msk)  \n",
    "    except :\n",
    "            print(\"Data already moved\")"
   ]
  },
  {
   "cell_type": "code",
   "execution_count": 41,
   "metadata": {},
   "outputs": [],
   "source": [
    "move_dataset(train, \"train\")\n",
    "move_dataset(validate, \"validate\")\n",
    "move_dataset(test, \"test\")"
   ]
  },
  {
   "cell_type": "code",
   "execution_count": null,
   "metadata": {},
   "outputs": [],
   "source": []
  }
 ],
 "metadata": {
  "kernelspec": {
   "display_name": "Python 3",
   "language": "python",
   "name": "python3"
  },
  "language_info": {
   "codemirror_mode": {
    "name": "ipython",
    "version": 3
   },
   "file_extension": ".py",
   "mimetype": "text/x-python",
   "name": "python",
   "nbconvert_exporter": "python",
   "pygments_lexer": "ipython3",
   "version": "3.8.6"
  }
 },
 "nbformat": 4,
 "nbformat_minor": 4
}
